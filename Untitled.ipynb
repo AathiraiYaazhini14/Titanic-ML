{
 "cells": [
  {
   "cell_type": "code",
   "execution_count": null,
   "id": "bae48e5b-f249-40d2-99ff-7c6f9b8ec771",
   "metadata": {},
   "outputs": [],
   "source": []
  }
 ],
 "metadata": {
  "kernelspec": {
   "display_name": "",
   "name": ""
  },
  "language_info": {
   "name": ""
  }
 },
 "nbformat": 4,
 "nbformat_minor": 5
}
